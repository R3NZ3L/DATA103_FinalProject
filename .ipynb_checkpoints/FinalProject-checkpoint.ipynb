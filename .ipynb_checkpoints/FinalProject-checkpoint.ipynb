{
 "cells": [
  {
   "cell_type": "markdown",
   "id": "9070e481-240c-46ca-8aec-900784759d2f",
   "metadata": {},
   "source": [
    "### DATA103 Final Project <br>\n",
    "Submitted by **ALDECOA**, Renzel; **LLANES**, Arlan; **OPALLA**, Rijan - S11"
   ]
  },
  {
   "cell_type": "markdown",
   "id": "becfce0f-82f8-4b44-8996-f245fdae7b25",
   "metadata": {
    "tags": []
   },
   "source": [
    "---\n",
    "#### Statment of the Problem"
   ]
  },
  {
   "cell_type": "markdown",
   "id": "f69cfc5f-2303-4a87-be68-851cbeb8400e",
   "metadata": {},
   "source": [
    "The <a href=\"https://www.kaggle.com/datasets/ahmedshahriarsakib/usa-real-estate-dataset\">USA Real Estate Dataset</a> offers listings of property sold in the USA across multiple states. According to the author, the data was collected from <a href=\"https://www.realtor.com/\">realtor.com</a>, a real estate listing website managed by *Move, Inc.*, a company based in Santa Clara, California.\n",
    "\n",
    "The dataset contains **2,226,382** property listings with **10** features. These features are the following:\n",
    "- ```brokered by``` - an encoded identification number for an agency/broker\n",
    "- ```status``` - housing status; can be (a) ready for sale, (b) sold, or (c) ready to build\n",
    "- ```price``` - housing price; either current listing price or recently sold price\n",
    "- ```bed``` - number of beds in the property\n",
    "- ```bath``` - number of bathrooms in the property\n",
    "- ```acre_lot``` - total property/lot area, in acres\n",
    "- ```street``` - encoded street address\n",
    "- ```city``` - city where the property is located\n",
    "- ```state``` - state where the property is located\n",
    "- ```zip_code``` - postal code of the area\n",
    "- ```house_size``` - the size of the property, in square feet; and\n",
    "- ```prev_sold_date``` - previous date of sale"
   ]
  },
  {
   "cell_type": "markdown",
   "id": "a348756b-df7f-406d-893f-06ce5a41d9d9",
   "metadata": {},
   "source": [
    "This will be a **<>** problem.\n",
    "\n",
    "Main features:\n",
    "- ```price```\n",
    "- ```bed``` (number of bedrooms)\n",
    "- ```bath``` (number of bathrooms)\n",
    "- ```acre_lot``` (area of lot in acres)\n",
    "- ```house_size``` (size of house in square feet)"
   ]
  },
  {
   "cell_type": "markdown",
   "id": "2a2c14b4-c5e5-4c16-be8b-1fd0f930217d",
   "metadata": {
    "tags": []
   },
   "source": [
    "---\n",
    "#### Importing necessary libraries"
   ]
  },
  {
   "cell_type": "code",
   "execution_count": 6,
   "id": "3b56f519-8f64-46d0-9c30-4a562a5db441",
   "metadata": {
    "tags": []
   },
   "outputs": [],
   "source": [
    "import pandas as pd\n",
    "import numpy as np\n",
    "import matplotlib.pyplot as plt"
   ]
  },
  {
   "cell_type": "markdown",
   "id": "8c2b10d7-5919-4679-a4cc-83a3fbb802fa",
   "metadata": {
    "tags": []
   },
   "source": [
    "---\n",
    "#### Extracting dataset from compressed file"
   ]
  },
  {
   "cell_type": "markdown",
   "id": "82fa4538-3ad2-468a-8983-c71273d473d0",
   "metadata": {},
   "source": [
    "The dataset itself is **large**, amounting to **178.86** MB of space. The dataset is pushed into the repository in a compressed state, as to not require the use of *Git LFS* (Large File Storage) "
   ]
  },
  {
   "cell_type": "code",
   "execution_count": 9,
   "id": "fe7158c4-c543-42b7-ba5a-a3d80dd5db8a",
   "metadata": {
    "tags": []
   },
   "outputs": [],
   "source": [
    "import zipfile\n",
    "with zipfile.ZipFile('USA-Real-Estate/archive.zip', 'r') as zip_ref:\n",
    "    zip_ref.extractall('USA-Real-Estate/')"
   ]
  },
  {
   "cell_type": "code",
   "execution_count": 10,
   "id": "b542187b-639e-4d29-8ffe-e8c16ca4d551",
   "metadata": {},
   "outputs": [
    {
     "data": {
      "text/plain": [
       "(2226382, 12)"
      ]
     },
     "execution_count": 10,
     "metadata": {},
     "output_type": "execute_result"
    }
   ],
   "source": [
    "df = pd.read_csv(\"USA-Real-Estate/realtor-data.zip.csv\", low_memory=False)\n",
    "df.shape"
   ]
  },
  {
   "cell_type": "markdown",
   "id": "0f45d81a-0564-40a3-9c0f-1bd30fb1b16e",
   "metadata": {},
   "source": [
    "---\n",
    "#### Exploring the dataset"
   ]
  },
  {
   "cell_type": "code",
   "execution_count": 12,
   "id": "766e02be-a31e-4827-bbca-4014f79903d2",
   "metadata": {},
   "outputs": [
    {
     "data": {
      "text/html": [
       "<div>\n",
       "<style scoped>\n",
       "    .dataframe tbody tr th:only-of-type {\n",
       "        vertical-align: middle;\n",
       "    }\n",
       "\n",
       "    .dataframe tbody tr th {\n",
       "        vertical-align: top;\n",
       "    }\n",
       "\n",
       "    .dataframe thead th {\n",
       "        text-align: right;\n",
       "    }\n",
       "</style>\n",
       "<table border=\"1\" class=\"dataframe\">\n",
       "  <thead>\n",
       "    <tr style=\"text-align: right;\">\n",
       "      <th></th>\n",
       "      <th>brokered_by</th>\n",
       "      <th>status</th>\n",
       "      <th>price</th>\n",
       "      <th>bed</th>\n",
       "      <th>bath</th>\n",
       "      <th>acre_lot</th>\n",
       "      <th>street</th>\n",
       "      <th>city</th>\n",
       "      <th>state</th>\n",
       "      <th>zip_code</th>\n",
       "      <th>house_size</th>\n",
       "      <th>prev_sold_date</th>\n",
       "    </tr>\n",
       "  </thead>\n",
       "  <tbody>\n",
       "    <tr>\n",
       "      <th>0</th>\n",
       "      <td>103378.0</td>\n",
       "      <td>for_sale</td>\n",
       "      <td>105000.0</td>\n",
       "      <td>3.0</td>\n",
       "      <td>2.0</td>\n",
       "      <td>0.12</td>\n",
       "      <td>1962661.0</td>\n",
       "      <td>Adjuntas</td>\n",
       "      <td>Puerto Rico</td>\n",
       "      <td>601.0</td>\n",
       "      <td>920.0</td>\n",
       "      <td>NaN</td>\n",
       "    </tr>\n",
       "    <tr>\n",
       "      <th>1</th>\n",
       "      <td>52707.0</td>\n",
       "      <td>for_sale</td>\n",
       "      <td>80000.0</td>\n",
       "      <td>4.0</td>\n",
       "      <td>2.0</td>\n",
       "      <td>0.08</td>\n",
       "      <td>1902874.0</td>\n",
       "      <td>Adjuntas</td>\n",
       "      <td>Puerto Rico</td>\n",
       "      <td>601.0</td>\n",
       "      <td>1527.0</td>\n",
       "      <td>NaN</td>\n",
       "    </tr>\n",
       "    <tr>\n",
       "      <th>2</th>\n",
       "      <td>103379.0</td>\n",
       "      <td>for_sale</td>\n",
       "      <td>67000.0</td>\n",
       "      <td>2.0</td>\n",
       "      <td>1.0</td>\n",
       "      <td>0.15</td>\n",
       "      <td>1404990.0</td>\n",
       "      <td>Juana Diaz</td>\n",
       "      <td>Puerto Rico</td>\n",
       "      <td>795.0</td>\n",
       "      <td>748.0</td>\n",
       "      <td>NaN</td>\n",
       "    </tr>\n",
       "  </tbody>\n",
       "</table>\n",
       "</div>"
      ],
      "text/plain": [
       "   brokered_by    status     price  bed  bath  acre_lot     street  \\\n",
       "0     103378.0  for_sale  105000.0  3.0   2.0      0.12  1962661.0   \n",
       "1      52707.0  for_sale   80000.0  4.0   2.0      0.08  1902874.0   \n",
       "2     103379.0  for_sale   67000.0  2.0   1.0      0.15  1404990.0   \n",
       "\n",
       "         city        state  zip_code  house_size prev_sold_date  \n",
       "0    Adjuntas  Puerto Rico     601.0       920.0            NaN  \n",
       "1    Adjuntas  Puerto Rico     601.0      1527.0            NaN  \n",
       "2  Juana Diaz  Puerto Rico     795.0       748.0            NaN  "
      ]
     },
     "execution_count": 12,
     "metadata": {},
     "output_type": "execute_result"
    }
   ],
   "source": [
    "df.head(3)"
   ]
  },
  {
   "cell_type": "markdown",
   "id": "4c8bf570-b1d0-4f40-b710-b0d696f5bb46",
   "metadata": {},
   "source": [
    "The features include the following:"
   ]
  },
  {
   "cell_type": "code",
   "execution_count": 14,
   "id": "6f7932d5-99a2-413e-a1fa-df522032a72c",
   "metadata": {
    "tags": []
   },
   "outputs": [
    {
     "data": {
      "text/plain": [
       "Index(['brokered_by', 'status', 'price', 'bed', 'bath', 'acre_lot', 'street',\n",
       "       'city', 'state', 'zip_code', 'house_size', 'prev_sold_date'],\n",
       "      dtype='object')"
      ]
     },
     "execution_count": 14,
     "metadata": {},
     "output_type": "execute_result"
    }
   ],
   "source": [
    "df.columns"
   ]
  },
  {
   "cell_type": "code",
   "execution_count": 15,
   "id": "2c2a2e48-e613-44c0-9360-faa62590e33e",
   "metadata": {
    "tags": []
   },
   "outputs": [
    {
     "data": {
      "text/plain": [
       "brokered_by       float64\n",
       "status             object\n",
       "price             float64\n",
       "bed               float64\n",
       "bath              float64\n",
       "acre_lot          float64\n",
       "street            float64\n",
       "city               object\n",
       "state              object\n",
       "zip_code          float64\n",
       "house_size        float64\n",
       "prev_sold_date     object\n",
       "dtype: object"
      ]
     },
     "execution_count": 15,
     "metadata": {},
     "output_type": "execute_result"
    }
   ],
   "source": [
    "df.dtypes"
   ]
  },
  {
   "cell_type": "markdown",
   "id": "933ee953-162f-410b-a7c3-048bedce8767",
   "metadata": {},
   "source": [
    "Brief statistical description of ```float``` type features (that are **not** numbers used for categorical encoding):"
   ]
  },
  {
   "cell_type": "code",
   "execution_count": 17,
   "id": "56096ec6-b158-4a8d-9297-593c0b3e95d2",
   "metadata": {
    "tags": []
   },
   "outputs": [
    {
     "data": {
      "text/html": [
       "<div>\n",
       "<style scoped>\n",
       "    .dataframe tbody tr th:only-of-type {\n",
       "        vertical-align: middle;\n",
       "    }\n",
       "\n",
       "    .dataframe tbody tr th {\n",
       "        vertical-align: top;\n",
       "    }\n",
       "\n",
       "    .dataframe thead th {\n",
       "        text-align: right;\n",
       "    }\n",
       "</style>\n",
       "<table border=\"1\" class=\"dataframe\">\n",
       "  <thead>\n",
       "    <tr style=\"text-align: right;\">\n",
       "      <th></th>\n",
       "      <th>count</th>\n",
       "      <th>mean</th>\n",
       "      <th>std</th>\n",
       "      <th>min</th>\n",
       "      <th>25%</th>\n",
       "      <th>50%</th>\n",
       "      <th>75%</th>\n",
       "      <th>max</th>\n",
       "    </tr>\n",
       "  </thead>\n",
       "  <tbody>\n",
       "    <tr>\n",
       "      <th>price</th>\n",
       "      <td>2224841.0</td>\n",
       "      <td>524195.519291</td>\n",
       "      <td>2.138893e+06</td>\n",
       "      <td>0.0</td>\n",
       "      <td>165000.00</td>\n",
       "      <td>325000.00</td>\n",
       "      <td>550000.00</td>\n",
       "      <td>2.147484e+09</td>\n",
       "    </tr>\n",
       "    <tr>\n",
       "      <th>bed</th>\n",
       "      <td>1745065.0</td>\n",
       "      <td>3.275841</td>\n",
       "      <td>1.567274e+00</td>\n",
       "      <td>1.0</td>\n",
       "      <td>3.00</td>\n",
       "      <td>3.00</td>\n",
       "      <td>4.00</td>\n",
       "      <td>4.730000e+02</td>\n",
       "    </tr>\n",
       "    <tr>\n",
       "      <th>bath</th>\n",
       "      <td>1714611.0</td>\n",
       "      <td>2.496440</td>\n",
       "      <td>1.652573e+00</td>\n",
       "      <td>1.0</td>\n",
       "      <td>2.00</td>\n",
       "      <td>2.00</td>\n",
       "      <td>3.00</td>\n",
       "      <td>8.300000e+02</td>\n",
       "    </tr>\n",
       "    <tr>\n",
       "      <th>acre_lot</th>\n",
       "      <td>1900793.0</td>\n",
       "      <td>15.223027</td>\n",
       "      <td>7.628238e+02</td>\n",
       "      <td>0.0</td>\n",
       "      <td>0.15</td>\n",
       "      <td>0.26</td>\n",
       "      <td>0.98</td>\n",
       "      <td>1.000000e+05</td>\n",
       "    </tr>\n",
       "    <tr>\n",
       "      <th>house_size</th>\n",
       "      <td>1657898.0</td>\n",
       "      <td>2714.471335</td>\n",
       "      <td>8.081635e+05</td>\n",
       "      <td>4.0</td>\n",
       "      <td>1300.00</td>\n",
       "      <td>1760.00</td>\n",
       "      <td>2413.00</td>\n",
       "      <td>1.040400e+09</td>\n",
       "    </tr>\n",
       "  </tbody>\n",
       "</table>\n",
       "</div>"
      ],
      "text/plain": [
       "                count           mean           std  min        25%        50%  \\\n",
       "price       2224841.0  524195.519291  2.138893e+06  0.0  165000.00  325000.00   \n",
       "bed         1745065.0       3.275841  1.567274e+00  1.0       3.00       3.00   \n",
       "bath        1714611.0       2.496440  1.652573e+00  1.0       2.00       2.00   \n",
       "acre_lot    1900793.0      15.223027  7.628238e+02  0.0       0.15       0.26   \n",
       "house_size  1657898.0    2714.471335  8.081635e+05  4.0    1300.00    1760.00   \n",
       "\n",
       "                  75%           max  \n",
       "price       550000.00  2.147484e+09  \n",
       "bed              4.00  4.730000e+02  \n",
       "bath             3.00  8.300000e+02  \n",
       "acre_lot         0.98  1.000000e+05  \n",
       "house_size    2413.00  1.040400e+09  "
      ]
     },
     "execution_count": 17,
     "metadata": {},
     "output_type": "execute_result"
    }
   ],
   "source": [
    "df_desc = df[[\"price\", \"bed\", \"bath\", \"acre_lot\", \"house_size\"]].describe().T\n",
    "df_desc"
   ]
  },
  {
   "cell_type": "markdown",
   "id": "720bb308-0959-4375-aaf5-a26e9c8f0869",
   "metadata": {},
   "source": [
    "As seen in the maximum values for the features ```bed```, ```bath```, and ```acre_lot```,\n",
    "it seems that the dataset is not limited to living spaces such as apartments, houses, etc. Let's see what listings have these kinds of values and deduce what type of property they could be, starting with ```acre_lot```."
   ]
  },
  {
   "cell_type": "code",
   "execution_count": 84,
   "id": "8d4e9b35-f3fc-450c-a0e2-497eb77889ab",
   "metadata": {
    "tags": []
   },
   "outputs": [
    {
     "name": "stdout",
     "output_type": "stream",
     "text": [
      "Number of records: 52\n"
     ]
    },
    {
     "data": {
      "text/html": [
       "<div>\n",
       "<style scoped>\n",
       "    .dataframe tbody tr th:only-of-type {\n",
       "        vertical-align: middle;\n",
       "    }\n",
       "\n",
       "    .dataframe tbody tr th {\n",
       "        vertical-align: top;\n",
       "    }\n",
       "\n",
       "    .dataframe thead th {\n",
       "        text-align: right;\n",
       "    }\n",
       "</style>\n",
       "<table border=\"1\" class=\"dataframe\">\n",
       "  <thead>\n",
       "    <tr style=\"text-align: right;\">\n",
       "      <th></th>\n",
       "      <th>brokered_by</th>\n",
       "      <th>status</th>\n",
       "      <th>price</th>\n",
       "      <th>bed</th>\n",
       "      <th>bath</th>\n",
       "      <th>acre_lot</th>\n",
       "      <th>street</th>\n",
       "      <th>city</th>\n",
       "      <th>state</th>\n",
       "      <th>zip_code</th>\n",
       "      <th>house_size</th>\n",
       "      <th>prev_sold_date</th>\n",
       "    </tr>\n",
       "  </thead>\n",
       "  <tbody>\n",
       "    <tr>\n",
       "      <th>3303</th>\n",
       "      <td>88715.0</td>\n",
       "      <td>for_sale</td>\n",
       "      <td>585000.0</td>\n",
       "      <td>4.0</td>\n",
       "      <td>4.0</td>\n",
       "      <td>100000.0</td>\n",
       "      <td>1930360.0</td>\n",
       "      <td>San Juan</td>\n",
       "      <td>Puerto Rico</td>\n",
       "      <td>926.0</td>\n",
       "      <td>3300.0</td>\n",
       "      <td>NaN</td>\n",
       "    </tr>\n",
       "    <tr>\n",
       "      <th>32658</th>\n",
       "      <td>82261.0</td>\n",
       "      <td>for_sale</td>\n",
       "      <td>129000.0</td>\n",
       "      <td>2.0</td>\n",
       "      <td>1.0</td>\n",
       "      <td>100000.0</td>\n",
       "      <td>598202.0</td>\n",
       "      <td>Whitehall</td>\n",
       "      <td>New York</td>\n",
       "      <td>12887.0</td>\n",
       "      <td>1352.0</td>\n",
       "      <td>NaN</td>\n",
       "    </tr>\n",
       "    <tr>\n",
       "      <th>54006</th>\n",
       "      <td>67217.0</td>\n",
       "      <td>for_sale</td>\n",
       "      <td>485000.0</td>\n",
       "      <td>4.0</td>\n",
       "      <td>3.0</td>\n",
       "      <td>100000.0</td>\n",
       "      <td>1081800.0</td>\n",
       "      <td>Scotch Plains</td>\n",
       "      <td>New Jersey</td>\n",
       "      <td>7076.0</td>\n",
       "      <td>NaN</td>\n",
       "      <td>1974-11-08</td>\n",
       "    </tr>\n",
       "    <tr>\n",
       "      <th>134682</th>\n",
       "      <td>40690.0</td>\n",
       "      <td>for_sale</td>\n",
       "      <td>160000.0</td>\n",
       "      <td>3.0</td>\n",
       "      <td>2.0</td>\n",
       "      <td>100000.0</td>\n",
       "      <td>437002.0</td>\n",
       "      <td>Bethlehem</td>\n",
       "      <td>New York</td>\n",
       "      <td>12158.0</td>\n",
       "      <td>1396.0</td>\n",
       "      <td>NaN</td>\n",
       "    </tr>\n",
       "    <tr>\n",
       "      <th>284083</th>\n",
       "      <td>30276.0</td>\n",
       "      <td>for_sale</td>\n",
       "      <td>364000.0</td>\n",
       "      <td>3.0</td>\n",
       "      <td>1.0</td>\n",
       "      <td>100000.0</td>\n",
       "      <td>395675.0</td>\n",
       "      <td>Sanford</td>\n",
       "      <td>North Carolina</td>\n",
       "      <td>27330.0</td>\n",
       "      <td>1250.0</td>\n",
       "      <td>2000-11-22</td>\n",
       "    </tr>\n",
       "  </tbody>\n",
       "</table>\n",
       "</div>"
      ],
      "text/plain": [
       "        brokered_by    status     price  bed  bath  acre_lot     street  \\\n",
       "3303        88715.0  for_sale  585000.0  4.0   4.0  100000.0  1930360.0   \n",
       "32658       82261.0  for_sale  129000.0  2.0   1.0  100000.0   598202.0   \n",
       "54006       67217.0  for_sale  485000.0  4.0   3.0  100000.0  1081800.0   \n",
       "134682      40690.0  for_sale  160000.0  3.0   2.0  100000.0   437002.0   \n",
       "284083      30276.0  for_sale  364000.0  3.0   1.0  100000.0   395675.0   \n",
       "\n",
       "                 city           state  zip_code  house_size prev_sold_date  \n",
       "3303         San Juan     Puerto Rico     926.0      3300.0            NaN  \n",
       "32658       Whitehall        New York   12887.0      1352.0            NaN  \n",
       "54006   Scotch Plains      New Jersey    7076.0         NaN     1974-11-08  \n",
       "134682      Bethlehem        New York   12158.0      1396.0            NaN  \n",
       "284083        Sanford  North Carolina   27330.0      1250.0     2000-11-22  "
      ]
     },
     "execution_count": 84,
     "metadata": {},
     "output_type": "execute_result"
    }
   ],
   "source": [
    "acre_lot_max = df.loc[df[\"acre_lot\"] == df_desc.at[\"acre_lot\", \"max\"]]\n",
    "print(f\"Number of records: {acre_lot_max.shape[0]}\")\n",
    "acre_lot_max.head()"
   ]
  },
  {
   "cell_type": "code",
   "execution_count": 92,
   "id": "734f2951-5dd8-495c-a83b-0758948c80fd",
   "metadata": {
    "tags": []
   },
   "outputs": [
    {
     "data": {
      "text/html": [
       "<div>\n",
       "<style scoped>\n",
       "    .dataframe tbody tr th:only-of-type {\n",
       "        vertical-align: middle;\n",
       "    }\n",
       "\n",
       "    .dataframe tbody tr th {\n",
       "        vertical-align: top;\n",
       "    }\n",
       "\n",
       "    .dataframe thead th {\n",
       "        text-align: right;\n",
       "    }\n",
       "</style>\n",
       "<table border=\"1\" class=\"dataframe\">\n",
       "  <thead>\n",
       "    <tr style=\"text-align: right;\">\n",
       "      <th></th>\n",
       "      <th>count</th>\n",
       "      <th>mean</th>\n",
       "      <th>std</th>\n",
       "      <th>min</th>\n",
       "      <th>25%</th>\n",
       "      <th>50%</th>\n",
       "      <th>75%</th>\n",
       "      <th>max</th>\n",
       "    </tr>\n",
       "  </thead>\n",
       "  <tbody>\n",
       "    <tr>\n",
       "      <th>price</th>\n",
       "      <td>52.0</td>\n",
       "      <td>1.233810e+06</td>\n",
       "      <td>4.502941e+06</td>\n",
       "      <td>35000.0</td>\n",
       "      <td>157350.0</td>\n",
       "      <td>289450.0</td>\n",
       "      <td>496249.75</td>\n",
       "      <td>26500000.0</td>\n",
       "    </tr>\n",
       "    <tr>\n",
       "      <th>bed</th>\n",
       "      <td>46.0</td>\n",
       "      <td>2.913043e+00</td>\n",
       "      <td>8.386785e-01</td>\n",
       "      <td>1.0</td>\n",
       "      <td>2.0</td>\n",
       "      <td>3.0</td>\n",
       "      <td>3.00</td>\n",
       "      <td>5.0</td>\n",
       "    </tr>\n",
       "    <tr>\n",
       "      <th>bath</th>\n",
       "      <td>46.0</td>\n",
       "      <td>2.195652e+00</td>\n",
       "      <td>8.594460e-01</td>\n",
       "      <td>1.0</td>\n",
       "      <td>2.0</td>\n",
       "      <td>2.0</td>\n",
       "      <td>2.00</td>\n",
       "      <td>5.0</td>\n",
       "    </tr>\n",
       "    <tr>\n",
       "      <th>house_size</th>\n",
       "      <td>41.0</td>\n",
       "      <td>1.670902e+03</td>\n",
       "      <td>7.669914e+02</td>\n",
       "      <td>440.0</td>\n",
       "      <td>1160.0</td>\n",
       "      <td>1352.0</td>\n",
       "      <td>1805.00</td>\n",
       "      <td>3497.0</td>\n",
       "    </tr>\n",
       "  </tbody>\n",
       "</table>\n",
       "</div>"
      ],
      "text/plain": [
       "            count          mean           std      min       25%       50%  \\\n",
       "price        52.0  1.233810e+06  4.502941e+06  35000.0  157350.0  289450.0   \n",
       "bed          46.0  2.913043e+00  8.386785e-01      1.0       2.0       3.0   \n",
       "bath         46.0  2.195652e+00  8.594460e-01      1.0       2.0       2.0   \n",
       "house_size   41.0  1.670902e+03  7.669914e+02    440.0    1160.0    1352.0   \n",
       "\n",
       "                  75%         max  \n",
       "price       496249.75  26500000.0  \n",
       "bed              3.00         5.0  \n",
       "bath             2.00         5.0  \n",
       "house_size    1805.00      3497.0  "
      ]
     },
     "execution_count": 92,
     "metadata": {},
     "output_type": "execute_result"
    }
   ],
   "source": [
    "acre_lot_max[[\"price\", \"bed\", \"bath\", \"house_size\"]].describe().T"
   ]
  },
  {
   "cell_type": "markdown",
   "id": "7aa6fa51-e620-4ee4-b74e-e78e41df69fe",
   "metadata": {},
   "source": [
    "These 52 properties have **100,000** acres (or **~404,686,000** square meters) of land. These listing cannnot just be land, ready for development, as all of these records have at least 1 ```bed``` and ```bath```. These properties may be luxurious mansions with a *lot* of free space. We can get rid of these listings as we aim to assist the average homeowner-to-be.\n",
    "\n",
    "The next features to be investigated would be ```bed``` and ```bath```."
   ]
  },
  {
   "cell_type": "code",
   "execution_count": null,
   "id": "c3adde49-fa39-4e2f-a0d5-32121f8bb322",
   "metadata": {},
   "outputs": [
    {
     "name": "stdout",
     "output_type": "stream",
     "text": [
      "Maximum number of bedrooms: 473.0\n",
      "Maximum number of bathrooms: 830.0\n"
     ]
    }
   ],
   "source": [
    "num_bed = df_desc.at[\"bed\", \"max\"]\n",
    "num_bath = df_desc.at[\"bath\", \"max\"]\n",
    "\n",
    "print(f\"Maximum number of bedrooms: {num_bed}\")\n",
    "print(f\"Maximum number of bathrooms: {num_bath}\")"
   ]
  },
  {
   "cell_type": "markdown",
   "id": "31a01c55-1898-40dd-b569-45587ec66be3",
   "metadata": {},
   "source": [
    "This number of bedrooms and bathrooms may refer to an entire building of living spaces, such as residential towers. Let's find the records with such values."
   ]
  },
  {
   "cell_type": "code",
   "execution_count": 106,
   "id": "f23b622e-2f1d-4bee-82d0-6f2cd090debb",
   "metadata": {
    "tags": []
   },
   "outputs": [
    {
     "name": "stdout",
     "output_type": "stream",
     "text": [
      "Number of records: 1\n"
     ]
    },
    {
     "data": {
      "text/html": [
       "<div>\n",
       "<style scoped>\n",
       "    .dataframe tbody tr th:only-of-type {\n",
       "        vertical-align: middle;\n",
       "    }\n",
       "\n",
       "    .dataframe tbody tr th {\n",
       "        vertical-align: top;\n",
       "    }\n",
       "\n",
       "    .dataframe thead th {\n",
       "        text-align: right;\n",
       "    }\n",
       "</style>\n",
       "<table border=\"1\" class=\"dataframe\">\n",
       "  <thead>\n",
       "    <tr style=\"text-align: right;\">\n",
       "      <th></th>\n",
       "      <th>brokered_by</th>\n",
       "      <th>status</th>\n",
       "      <th>price</th>\n",
       "      <th>bed</th>\n",
       "      <th>bath</th>\n",
       "      <th>acre_lot</th>\n",
       "      <th>street</th>\n",
       "      <th>city</th>\n",
       "      <th>state</th>\n",
       "      <th>zip_code</th>\n",
       "      <th>house_size</th>\n",
       "      <th>prev_sold_date</th>\n",
       "    </tr>\n",
       "  </thead>\n",
       "  <tbody>\n",
       "    <tr>\n",
       "      <th>583135</th>\n",
       "      <td>21069.0</td>\n",
       "      <td>for_sale</td>\n",
       "      <td>225000.0</td>\n",
       "      <td>473.0</td>\n",
       "      <td>157.0</td>\n",
       "      <td>NaN</td>\n",
       "      <td>975782.0</td>\n",
       "      <td>Brent</td>\n",
       "      <td>Alabama</td>\n",
       "      <td>35034.0</td>\n",
       "      <td>NaN</td>\n",
       "      <td>NaN</td>\n",
       "    </tr>\n",
       "  </tbody>\n",
       "</table>\n",
       "</div>"
      ],
      "text/plain": [
       "        brokered_by    status     price    bed   bath  acre_lot    street  \\\n",
       "583135      21069.0  for_sale  225000.0  473.0  157.0       NaN  975782.0   \n",
       "\n",
       "         city    state  zip_code  house_size prev_sold_date  \n",
       "583135  Brent  Alabama   35034.0         NaN            NaN  "
      ]
     },
     "execution_count": 106,
     "metadata": {},
     "output_type": "execute_result"
    }
   ],
   "source": [
    "bed_max = df.loc[df[\"bed\"] == df_desc.at[\"bed\", \"max\"]]\n",
    "print(f\"Number of records: {bed_max.shape[0]}\")\n",
    "bed_max.head()"
   ]
  },
  {
   "cell_type": "code",
   "execution_count": 120,
   "id": "b865bb32-84b1-4365-a63f-614a2585613f",
   "metadata": {
    "tags": []
   },
   "outputs": [
    {
     "name": "stdout",
     "output_type": "stream",
     "text": [
      "Number of records: 1\n"
     ]
    },
    {
     "data": {
      "text/html": [
       "<div>\n",
       "<style scoped>\n",
       "    .dataframe tbody tr th:only-of-type {\n",
       "        vertical-align: middle;\n",
       "    }\n",
       "\n",
       "    .dataframe tbody tr th {\n",
       "        vertical-align: top;\n",
       "    }\n",
       "\n",
       "    .dataframe thead th {\n",
       "        text-align: right;\n",
       "    }\n",
       "</style>\n",
       "<table border=\"1\" class=\"dataframe\">\n",
       "  <thead>\n",
       "    <tr style=\"text-align: right;\">\n",
       "      <th></th>\n",
       "      <th>brokered_by</th>\n",
       "      <th>status</th>\n",
       "      <th>price</th>\n",
       "      <th>bed</th>\n",
       "      <th>bath</th>\n",
       "      <th>acre_lot</th>\n",
       "      <th>street</th>\n",
       "      <th>city</th>\n",
       "      <th>state</th>\n",
       "      <th>zip_code</th>\n",
       "      <th>house_size</th>\n",
       "      <th>prev_sold_date</th>\n",
       "    </tr>\n",
       "  </thead>\n",
       "  <tbody>\n",
       "    <tr>\n",
       "      <th>1378596</th>\n",
       "      <td>65903.0</td>\n",
       "      <td>for_sale</td>\n",
       "      <td>699000.0</td>\n",
       "      <td>222.0</td>\n",
       "      <td>830.0</td>\n",
       "      <td>0.34</td>\n",
       "      <td>541082.0</td>\n",
       "      <td>Dallas</td>\n",
       "      <td>Oregon</td>\n",
       "      <td>97338.0</td>\n",
       "      <td>NaN</td>\n",
       "      <td>2006-04-10</td>\n",
       "    </tr>\n",
       "  </tbody>\n",
       "</table>\n",
       "</div>"
      ],
      "text/plain": [
       "         brokered_by    status     price    bed   bath  acre_lot    street  \\\n",
       "1378596      65903.0  for_sale  699000.0  222.0  830.0      0.34  541082.0   \n",
       "\n",
       "           city   state  zip_code  house_size prev_sold_date  \n",
       "1378596  Dallas  Oregon   97338.0         NaN     2006-04-10  "
      ]
     },
     "execution_count": 120,
     "metadata": {},
     "output_type": "execute_result"
    }
   ],
   "source": [
    "bath_max = df.loc[df[\"bath\"] == df_desc.at[\"bath\", \"max\"]]\n",
    "print(f\"Number of records: {bath_max.shape[0]}\")\n",
    "bath_max.head()"
   ]
  },
  {
   "cell_type": "markdown",
   "id": "366d494e-11aa-458c-b99b-db152e4a6def",
   "metadata": {},
   "source": [
    "These listings appear to be tower or tall buildings housing multiple living spaces, such as residential towers or hotels. This is evident in their small ```acre_lot```. If the building is not wide, it must have built upwards to accomodate such number of rooms.\n",
    "\n",
    "Just in case, let's check the unique values for ```bed``` and ```bath``` to see which listings are similar to what were found above."
   ]
  },
  {
   "cell_type": "code",
   "execution_count": 127,
   "id": "101e6dd0-faff-402c-b18f-f56318edb63f",
   "metadata": {
    "tags": []
   },
   "outputs": [
    {
     "data": {
      "text/plain": [
       "array([  3.,   4.,   2.,   6.,   5.,   1.,   9.,  nan,   7.,   8.,  12.,\n",
       "        13.,  10.,  11.,  33.,  24.,  28.,  14.,  18.,  20.,  16.,  15.,\n",
       "        19.,  17.,  40.,  21.,  86.,  31.,  27.,  42.,  60.,  22.,  32.,\n",
       "        99.,  49.,  29.,  30.,  23.,  46.,  36.,  68., 123.,  25.,  47.,\n",
       "        35.,  38.,  64.,  48.,  75., 142.,  61.,  70.,  53.,  26.,  34.,\n",
       "        54.,  71., 210.,  66.,  44.,  37.,  62.,  72., 100.,  55.,  74.,\n",
       "        73., 473.,  52., 110., 136.,  50.,  98., 102.,  69.,  82.,  41.,\n",
       "        76.,  43.,  80.,  67., 190.,  93.,  45.,  96.,  57.,  39.,  56.,\n",
       "        63.,  90., 108., 111., 212.,  88., 222., 444., 148.,  84., 114.,\n",
       "       120.])"
      ]
     },
     "execution_count": 127,
     "metadata": {},
     "output_type": "execute_result"
    }
   ],
   "source": [
    "df[\"bed\"].unique()"
   ]
  },
  {
   "cell_type": "code",
   "execution_count": 130,
   "id": "5ef665a6-eeb7-44ad-a11d-e490c6cc31c6",
   "metadata": {
    "tags": []
   },
   "outputs": [
    {
     "data": {
      "text/plain": [
       "array([  2.,   1.,   3.,   5.,   4.,   7.,   6.,  nan,   8.,   9.,  10.,\n",
       "        12.,  13.,  35.,  11.,  16.,  15.,  18.,  20.,  14.,  36.,  25.,\n",
       "        17.,  19.,  56.,  42.,  51.,  28., 198.,  22.,  33.,  27.,  30.,\n",
       "        29.,  24.,  46.,  21., 123.,  39.,  43.,  32.,  45.,  64.,  31.,\n",
       "        54.,  68.,  23.,  37.,  26., 212.,  69.,  44.,  49.,  60.,  70.,\n",
       "        71., 157.,  97.,  99.,  47.,  80.,  38.,  48.,  52.,  72., 752.,\n",
       "        40., 163., 460.,  53.,  62.,  78.,  66.,  57.,  74.,  86., 108.,\n",
       "        41.,  34.,  58., 113.,  50.,  88., 830., 222., 175.,  55.])"
      ]
     },
     "execution_count": 130,
     "metadata": {},
     "output_type": "execute_result"
    }
   ],
   "source": [
    "df[\"bath\"].unique()"
   ]
  },
  {
   "cell_type": "markdown",
   "id": "f2620fe9-2b1a-4e37-a652-0f9b4b2281c6",
   "metadata": {},
   "source": [
    "Some listings have their number of rooms going at the hundreds. We can trim these listings out as we're looking to work with properties for < at least a family of 3 ? >."
   ]
  },
  {
   "cell_type": "code",
   "execution_count": null,
   "id": "a612db3e-fe61-4294-a1e8-713a6788b872",
   "metadata": {},
   "outputs": [],
   "source": []
  },
  {
   "cell_type": "code",
   "execution_count": null,
   "id": "499d4a81-4231-43ce-90be-40605cf544c6",
   "metadata": {},
   "outputs": [],
   "source": []
  },
  {
   "cell_type": "code",
   "execution_count": null,
   "id": "b91251b1-803e-412c-8c2a-8002dc026556",
   "metadata": {},
   "outputs": [],
   "source": []
  }
 ],
 "metadata": {
  "kernelspec": {
   "display_name": "Python 3 (ipykernel)",
   "language": "python",
   "name": "python3"
  },
  "language_info": {
   "codemirror_mode": {
    "name": "ipython",
    "version": 3
   },
   "file_extension": ".py",
   "mimetype": "text/x-python",
   "name": "python",
   "nbconvert_exporter": "python",
   "pygments_lexer": "ipython3",
   "version": "3.11.5"
  }
 },
 "nbformat": 4,
 "nbformat_minor": 5
}
