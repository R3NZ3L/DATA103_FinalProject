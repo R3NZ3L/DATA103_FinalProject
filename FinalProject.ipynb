{
 "cells": [
  {
   "cell_type": "markdown",
   "id": "9070e481-240c-46ca-8aec-900784759d2f",
   "metadata": {},
   "source": [
    "### DATA103 Final Project <br>\n",
    "Submitted by **ALDECOA**, Renzel; **LLANES**, Arlan; **OPALLA**, Rijan - S11"
   ]
  },
  {
   "cell_type": "markdown",
   "id": "becfce0f-82f8-4b44-8996-f245fdae7b25",
   "metadata": {
    "tags": []
   },
   "source": [
    "---\n",
    "#### Statment of the Problem"
   ]
  },
  {
   "cell_type": "markdown",
   "id": "f69cfc5f-2303-4a87-be68-851cbeb8400e",
   "metadata": {},
   "source": [
    "The <a href=\"https://www.kaggle.com/datasets/ahmedshahriarsakib/usa-real-estate-dataset\">USA Real Estate Dataset</a> offers listings of property sold in the USA across multiple states. According to the author, the data was collected from <a href=\"https://www.realtor.com/\">realtor.com</a>, a real estate listing website managed by *Move, Inc.*, a company based in Santa Clara, California.\n",
    "\n",
    "The dataset contains **2,226,382** property listings with **10** features. These features are the following:\n",
    "- ```brokered by``` - an encoded identification number for an agency/broker\n",
    "- ```status``` - housing status; can be (a) ready for sale, (b) sold, or (c) ready to build\n",
    "- ```price``` - housing price; either current listing price or recently sold price\n",
    "- ```bed``` - number of beds in the property\n",
    "- ```bath``` - number of bathrooms in the property\n",
    "- ```acre_lot``` - total property/lot area, in acres\n",
    "- ```street``` - encoded street address\n",
    "- ```city``` - city where the property is located\n",
    "- ```state``` - state where the property is located\n",
    "- ```zip_code``` - postal code of the area\n",
    "- ```house_size``` - the size of the property, in square feet; and\n",
    "- ```prev_sold_date``` - previous date of sale"
   ]
  },
  {
   "cell_type": "markdown",
   "id": "a348756b-df7f-406d-893f-06ce5a41d9d9",
   "metadata": {},
   "source": [
    "This will be a **classification** problem. The project is concerned with identifying which properties for sale are **worth the price**, using the features available in the dataset. These features will be the following:\n",
    "\n",
    "Main features:\n",
    "- ```price```\n",
    "- ```bed``` (number of bedrooms)\n",
    "- ```bath``` (number of bathrooms)\n",
    "- ```acre_lot``` (area of lot in acres)\n",
    "- ```house_size``` (size of house in square feet)\n",
    "\n",
    "Label:\n",
    "- ```Worth [1]``` / ```Not worth [0]``` (binary) - determines if the house, with its amenities, is worth the price\n"
   ]
  },
  {
   "cell_type": "markdown",
   "id": "2a2c14b4-c5e5-4c16-be8b-1fd0f930217d",
   "metadata": {
    "tags": []
   },
   "source": [
    "---\n",
    "#### Importing necessary libraries"
   ]
  },
  {
   "cell_type": "code",
   "execution_count": 7,
   "id": "3b56f519-8f64-46d0-9c30-4a562a5db441",
   "metadata": {
    "tags": []
   },
   "outputs": [],
   "source": [
    "import pandas as pd\n",
    "import numpy as np\n",
    "import matplotlib.pyplot as plt"
   ]
  },
  {
   "cell_type": "markdown",
   "id": "8c2b10d7-5919-4679-a4cc-83a3fbb802fa",
   "metadata": {
    "tags": []
   },
   "source": [
    "---\n",
    "#### Extracting dataset from compressed file"
   ]
  },
  {
   "cell_type": "markdown",
   "id": "82fa4538-3ad2-468a-8983-c71273d473d0",
   "metadata": {},
   "source": [
    "The dataset itself is **large**, amounting to **178.86** MB of space. The dataset is pushed into the repository in a compressed state, as to not require the use of *Git LFS* (Large File Storage) "
   ]
  },
  {
   "cell_type": "code",
   "execution_count": 10,
   "id": "fe7158c4-c543-42b7-ba5a-a3d80dd5db8a",
   "metadata": {
    "tags": []
   },
   "outputs": [],
   "source": [
    "import zipfile\n",
    "with zipfile.ZipFile('USA-Real-Estate/archive.zip', 'r') as zip_ref:\n",
    "    zip_ref.extractall('USA-Real-Estate/')"
   ]
  },
  {
   "cell_type": "code",
   "execution_count": 11,
   "id": "b542187b-639e-4d29-8ffe-e8c16ca4d551",
   "metadata": {},
   "outputs": [
    {
     "data": {
      "text/plain": [
       "(2226382, 12)"
      ]
     },
     "execution_count": 11,
     "metadata": {},
     "output_type": "execute_result"
    }
   ],
   "source": [
    "df = pd.read_csv(\"USA-Real-Estate/realtor-data.zip.csv\", low_memory=False)\n",
    "df.shape"
   ]
  },
  {
   "cell_type": "markdown",
   "id": "0f45d81a-0564-40a3-9c0f-1bd30fb1b16e",
   "metadata": {},
   "source": [
    "---\n",
    "#### Exploring the dataset"
   ]
  },
  {
   "cell_type": "code",
   "execution_count": 13,
   "id": "766e02be-a31e-4827-bbca-4014f79903d2",
   "metadata": {},
   "outputs": [
    {
     "data": {
      "text/html": [
       "<div>\n",
       "<style scoped>\n",
       "    .dataframe tbody tr th:only-of-type {\n",
       "        vertical-align: middle;\n",
       "    }\n",
       "\n",
       "    .dataframe tbody tr th {\n",
       "        vertical-align: top;\n",
       "    }\n",
       "\n",
       "    .dataframe thead th {\n",
       "        text-align: right;\n",
       "    }\n",
       "</style>\n",
       "<table border=\"1\" class=\"dataframe\">\n",
       "  <thead>\n",
       "    <tr style=\"text-align: right;\">\n",
       "      <th></th>\n",
       "      <th>brokered_by</th>\n",
       "      <th>status</th>\n",
       "      <th>price</th>\n",
       "      <th>bed</th>\n",
       "      <th>bath</th>\n",
       "      <th>acre_lot</th>\n",
       "      <th>street</th>\n",
       "      <th>city</th>\n",
       "      <th>state</th>\n",
       "      <th>zip_code</th>\n",
       "      <th>house_size</th>\n",
       "      <th>prev_sold_date</th>\n",
       "    </tr>\n",
       "  </thead>\n",
       "  <tbody>\n",
       "    <tr>\n",
       "      <th>0</th>\n",
       "      <td>103378.0</td>\n",
       "      <td>for_sale</td>\n",
       "      <td>105000.0</td>\n",
       "      <td>3.0</td>\n",
       "      <td>2.0</td>\n",
       "      <td>0.12</td>\n",
       "      <td>1962661.0</td>\n",
       "      <td>Adjuntas</td>\n",
       "      <td>Puerto Rico</td>\n",
       "      <td>601.0</td>\n",
       "      <td>920.0</td>\n",
       "      <td>NaN</td>\n",
       "    </tr>\n",
       "    <tr>\n",
       "      <th>1</th>\n",
       "      <td>52707.0</td>\n",
       "      <td>for_sale</td>\n",
       "      <td>80000.0</td>\n",
       "      <td>4.0</td>\n",
       "      <td>2.0</td>\n",
       "      <td>0.08</td>\n",
       "      <td>1902874.0</td>\n",
       "      <td>Adjuntas</td>\n",
       "      <td>Puerto Rico</td>\n",
       "      <td>601.0</td>\n",
       "      <td>1527.0</td>\n",
       "      <td>NaN</td>\n",
       "    </tr>\n",
       "    <tr>\n",
       "      <th>2</th>\n",
       "      <td>103379.0</td>\n",
       "      <td>for_sale</td>\n",
       "      <td>67000.0</td>\n",
       "      <td>2.0</td>\n",
       "      <td>1.0</td>\n",
       "      <td>0.15</td>\n",
       "      <td>1404990.0</td>\n",
       "      <td>Juana Diaz</td>\n",
       "      <td>Puerto Rico</td>\n",
       "      <td>795.0</td>\n",
       "      <td>748.0</td>\n",
       "      <td>NaN</td>\n",
       "    </tr>\n",
       "  </tbody>\n",
       "</table>\n",
       "</div>"
      ],
      "text/plain": [
       "   brokered_by    status     price  bed  bath  acre_lot     street  \\\n",
       "0     103378.0  for_sale  105000.0  3.0   2.0      0.12  1962661.0   \n",
       "1      52707.0  for_sale   80000.0  4.0   2.0      0.08  1902874.0   \n",
       "2     103379.0  for_sale   67000.0  2.0   1.0      0.15  1404990.0   \n",
       "\n",
       "         city        state  zip_code  house_size prev_sold_date  \n",
       "0    Adjuntas  Puerto Rico     601.0       920.0            NaN  \n",
       "1    Adjuntas  Puerto Rico     601.0      1527.0            NaN  \n",
       "2  Juana Diaz  Puerto Rico     795.0       748.0            NaN  "
      ]
     },
     "execution_count": 13,
     "metadata": {},
     "output_type": "execute_result"
    }
   ],
   "source": [
    "df.head(3)"
   ]
  },
  {
   "cell_type": "markdown",
   "id": "4c8bf570-b1d0-4f40-b710-b0d696f5bb46",
   "metadata": {},
   "source": [
    "The features include the following:"
   ]
  },
  {
   "cell_type": "code",
   "execution_count": 15,
   "id": "6f7932d5-99a2-413e-a1fa-df522032a72c",
   "metadata": {
    "tags": []
   },
   "outputs": [
    {
     "data": {
      "text/plain": [
       "Index(['brokered_by', 'status', 'price', 'bed', 'bath', 'acre_lot', 'street',\n",
       "       'city', 'state', 'zip_code', 'house_size', 'prev_sold_date'],\n",
       "      dtype='object')"
      ]
     },
     "execution_count": 15,
     "metadata": {},
     "output_type": "execute_result"
    }
   ],
   "source": [
    "df.columns"
   ]
  },
  {
   "cell_type": "code",
   "execution_count": 16,
   "id": "2c2a2e48-e613-44c0-9360-faa62590e33e",
   "metadata": {
    "tags": []
   },
   "outputs": [
    {
     "data": {
      "text/plain": [
       "brokered_by       float64\n",
       "status             object\n",
       "price             float64\n",
       "bed               float64\n",
       "bath              float64\n",
       "acre_lot          float64\n",
       "street            float64\n",
       "city               object\n",
       "state              object\n",
       "zip_code          float64\n",
       "house_size        float64\n",
       "prev_sold_date     object\n",
       "dtype: object"
      ]
     },
     "execution_count": 16,
     "metadata": {},
     "output_type": "execute_result"
    }
   ],
   "source": [
    "df.dtypes"
   ]
  },
  {
   "cell_type": "markdown",
   "id": "933ee953-162f-410b-a7c3-048bedce8767",
   "metadata": {},
   "source": [
    "Brief statistical description of ```float``` type features (that are **not** numbers used for categorical encoding):"
   ]
  },
  {
   "cell_type": "code",
   "execution_count": 18,
   "id": "56096ec6-b158-4a8d-9297-593c0b3e95d2",
   "metadata": {
    "tags": []
   },
   "outputs": [
    {
     "data": {
      "text/html": [
       "<div>\n",
       "<style scoped>\n",
       "    .dataframe tbody tr th:only-of-type {\n",
       "        vertical-align: middle;\n",
       "    }\n",
       "\n",
       "    .dataframe tbody tr th {\n",
       "        vertical-align: top;\n",
       "    }\n",
       "\n",
       "    .dataframe thead th {\n",
       "        text-align: right;\n",
       "    }\n",
       "</style>\n",
       "<table border=\"1\" class=\"dataframe\">\n",
       "  <thead>\n",
       "    <tr style=\"text-align: right;\">\n",
       "      <th></th>\n",
       "      <th>count</th>\n",
       "      <th>mean</th>\n",
       "      <th>std</th>\n",
       "      <th>min</th>\n",
       "      <th>25%</th>\n",
       "      <th>50%</th>\n",
       "      <th>75%</th>\n",
       "      <th>max</th>\n",
       "    </tr>\n",
       "  </thead>\n",
       "  <tbody>\n",
       "    <tr>\n",
       "      <th>price</th>\n",
       "      <td>2224841.0</td>\n",
       "      <td>524195.519291</td>\n",
       "      <td>2.138893e+06</td>\n",
       "      <td>0.0</td>\n",
       "      <td>165000.00</td>\n",
       "      <td>325000.00</td>\n",
       "      <td>550000.00</td>\n",
       "      <td>2.147484e+09</td>\n",
       "    </tr>\n",
       "    <tr>\n",
       "      <th>bed</th>\n",
       "      <td>1745065.0</td>\n",
       "      <td>3.275841</td>\n",
       "      <td>1.567274e+00</td>\n",
       "      <td>1.0</td>\n",
       "      <td>3.00</td>\n",
       "      <td>3.00</td>\n",
       "      <td>4.00</td>\n",
       "      <td>4.730000e+02</td>\n",
       "    </tr>\n",
       "    <tr>\n",
       "      <th>bath</th>\n",
       "      <td>1714611.0</td>\n",
       "      <td>2.496440</td>\n",
       "      <td>1.652573e+00</td>\n",
       "      <td>1.0</td>\n",
       "      <td>2.00</td>\n",
       "      <td>2.00</td>\n",
       "      <td>3.00</td>\n",
       "      <td>8.300000e+02</td>\n",
       "    </tr>\n",
       "    <tr>\n",
       "      <th>acre_lot</th>\n",
       "      <td>1900793.0</td>\n",
       "      <td>15.223027</td>\n",
       "      <td>7.628238e+02</td>\n",
       "      <td>0.0</td>\n",
       "      <td>0.15</td>\n",
       "      <td>0.26</td>\n",
       "      <td>0.98</td>\n",
       "      <td>1.000000e+05</td>\n",
       "    </tr>\n",
       "    <tr>\n",
       "      <th>house_size</th>\n",
       "      <td>1657898.0</td>\n",
       "      <td>2714.471335</td>\n",
       "      <td>8.081635e+05</td>\n",
       "      <td>4.0</td>\n",
       "      <td>1300.00</td>\n",
       "      <td>1760.00</td>\n",
       "      <td>2413.00</td>\n",
       "      <td>1.040400e+09</td>\n",
       "    </tr>\n",
       "  </tbody>\n",
       "</table>\n",
       "</div>"
      ],
      "text/plain": [
       "                count           mean           std  min        25%        50%  \\\n",
       "price       2224841.0  524195.519291  2.138893e+06  0.0  165000.00  325000.00   \n",
       "bed         1745065.0       3.275841  1.567274e+00  1.0       3.00       3.00   \n",
       "bath        1714611.0       2.496440  1.652573e+00  1.0       2.00       2.00   \n",
       "acre_lot    1900793.0      15.223027  7.628238e+02  0.0       0.15       0.26   \n",
       "house_size  1657898.0    2714.471335  8.081635e+05  4.0    1300.00    1760.00   \n",
       "\n",
       "                  75%           max  \n",
       "price       550000.00  2.147484e+09  \n",
       "bed              4.00  4.730000e+02  \n",
       "bath             3.00  8.300000e+02  \n",
       "acre_lot         0.98  1.000000e+05  \n",
       "house_size    2413.00  1.040400e+09  "
      ]
     },
     "execution_count": 18,
     "metadata": {},
     "output_type": "execute_result"
    }
   ],
   "source": [
    "df_desc = df[[\"price\", \"bed\", \"bath\", \"acre_lot\", \"house_size\"]].describe().T\n",
    "df_desc"
   ]
  },
  {
   "cell_type": "markdown",
   "id": "c28069db-9b49-455e-8a4b-3502af658d94",
   "metadata": {},
   "source": [
    "The standard deviation of ```price``` is uncommonly large. <br>\n",
    "There may be outliers under this feature. To check, we count how many records are below and above the average."
   ]
  },
  {
   "cell_type": "code",
   "execution_count": 20,
   "id": "20b87ef2-e86e-4ae1-9d2e-58d9f55731e9",
   "metadata": {
    "tags": []
   },
   "outputs": [],
   "source": [
    "below_mean = df.loc[df[\"price\"] <= df_desc.at[\"price\", \"mean\"]]\n",
    "above_mean = df.loc[df[\"price\"] > df_desc.at[\"price\", \"mean\"]]"
   ]
  },
  {
   "cell_type": "code",
   "execution_count": 21,
   "id": "03a11d4e-f6bd-4554-bdde-40102d9404cb",
   "metadata": {
    "tags": []
   },
   "outputs": [
    {
     "name": "stdout",
     "output_type": "stream",
     "text": [
      "Records below mean price: 1618875 (72.7133%)\n",
      "Records above mean price: 605966 (27.2175%)\n"
     ]
    }
   ],
   "source": [
    "below_mean_ratio = round((below_mean.shape[0] / df.shape[0]) * 100, 4)\n",
    "above_mean_ratio = round((above_mean.shape[0] / df.shape[0]) * 100, 4)\n",
    "\n",
    "print(f\"Records below mean price: {below_mean.shape[0]} ({below_mean_ratio}%)\")\n",
    "print(f\"Records above mean price: {above_mean.shape[0]} ({above_mean_ratio}%)\")"
   ]
  },
  {
   "cell_type": "markdown",
   "id": "71707fd3-ce9b-467e-b4a3-8bf8261350ef",
   "metadata": {},
   "source": [
    "Not an even split, as seen in the ratios. <br>\n",
    "Let's check the distribution of records below and above the mean ```price```."
   ]
  },
  {
   "cell_type": "code",
   "execution_count": 23,
   "id": "7ba8bddd-f1e3-47fc-81db-c49a897b3963",
   "metadata": {
    "tags": []
   },
   "outputs": [
    {
     "data": {
      "text/html": [
       "<div>\n",
       "<style scoped>\n",
       "    .dataframe tbody tr th:only-of-type {\n",
       "        vertical-align: middle;\n",
       "    }\n",
       "\n",
       "    .dataframe tbody tr th {\n",
       "        vertical-align: top;\n",
       "    }\n",
       "\n",
       "    .dataframe thead th {\n",
       "        text-align: right;\n",
       "    }\n",
       "</style>\n",
       "<table border=\"1\" class=\"dataframe\">\n",
       "  <thead>\n",
       "    <tr style=\"text-align: right;\">\n",
       "      <th></th>\n",
       "      <th>count</th>\n",
       "      <th>mean</th>\n",
       "      <th>std</th>\n",
       "      <th>min</th>\n",
       "      <th>25%</th>\n",
       "      <th>50%</th>\n",
       "      <th>75%</th>\n",
       "      <th>max</th>\n",
       "    </tr>\n",
       "  </thead>\n",
       "  <tbody>\n",
       "    <tr>\n",
       "      <th>price</th>\n",
       "      <td>1618875.0</td>\n",
       "      <td>240941.372498</td>\n",
       "      <td>142964.836344</td>\n",
       "      <td>0.0</td>\n",
       "      <td>120000.00</td>\n",
       "      <td>239900.00</td>\n",
       "      <td>354900.00</td>\n",
       "      <td>5.241900e+05</td>\n",
       "    </tr>\n",
       "    <tr>\n",
       "      <th>bed</th>\n",
       "      <td>1196453.0</td>\n",
       "      <td>3.054735</td>\n",
       "      <td>1.256840</td>\n",
       "      <td>1.0</td>\n",
       "      <td>2.00</td>\n",
       "      <td>3.00</td>\n",
       "      <td>4.00</td>\n",
       "      <td>4.730000e+02</td>\n",
       "    </tr>\n",
       "    <tr>\n",
       "      <th>bath</th>\n",
       "      <td>1175458.0</td>\n",
       "      <td>2.156122</td>\n",
       "      <td>1.235881</td>\n",
       "      <td>1.0</td>\n",
       "      <td>2.00</td>\n",
       "      <td>2.00</td>\n",
       "      <td>3.00</td>\n",
       "      <td>7.520000e+02</td>\n",
       "    </tr>\n",
       "    <tr>\n",
       "      <th>acre_lot</th>\n",
       "      <td>1384297.0</td>\n",
       "      <td>12.533855</td>\n",
       "      <td>764.802540</td>\n",
       "      <td>0.0</td>\n",
       "      <td>0.16</td>\n",
       "      <td>0.26</td>\n",
       "      <td>0.92</td>\n",
       "      <td>1.000000e+05</td>\n",
       "    </tr>\n",
       "    <tr>\n",
       "      <th>house_size</th>\n",
       "      <td>1135318.0</td>\n",
       "      <td>2646.508983</td>\n",
       "      <td>976442.545012</td>\n",
       "      <td>100.0</td>\n",
       "      <td>1202.00</td>\n",
       "      <td>1576.00</td>\n",
       "      <td>2042.00</td>\n",
       "      <td>1.040400e+09</td>\n",
       "    </tr>\n",
       "  </tbody>\n",
       "</table>\n",
       "</div>"
      ],
      "text/plain": [
       "                count           mean            std    min        25%  \\\n",
       "price       1618875.0  240941.372498  142964.836344    0.0  120000.00   \n",
       "bed         1196453.0       3.054735       1.256840    1.0       2.00   \n",
       "bath        1175458.0       2.156122       1.235881    1.0       2.00   \n",
       "acre_lot    1384297.0      12.533855     764.802540    0.0       0.16   \n",
       "house_size  1135318.0    2646.508983  976442.545012  100.0    1202.00   \n",
       "\n",
       "                  50%        75%           max  \n",
       "price       239900.00  354900.00  5.241900e+05  \n",
       "bed              3.00       4.00  4.730000e+02  \n",
       "bath             2.00       3.00  7.520000e+02  \n",
       "acre_lot         0.26       0.92  1.000000e+05  \n",
       "house_size    1576.00    2042.00  1.040400e+09  "
      ]
     },
     "execution_count": 23,
     "metadata": {},
     "output_type": "execute_result"
    }
   ],
   "source": [
    "below_mean_desc = below_mean[[\"price\", \"bed\", \"bath\", \"acre_lot\", \"house_size\"]].describe().T\n",
    "below_mean_desc"
   ]
  },
  {
   "cell_type": "code",
   "execution_count": 24,
   "id": "4452b7ba-0c36-419f-a4eb-f0d1f76e4abc",
   "metadata": {
    "tags": []
   },
   "outputs": [
    {
     "data": {
      "text/html": [
       "<div>\n",
       "<style scoped>\n",
       "    .dataframe tbody tr th:only-of-type {\n",
       "        vertical-align: middle;\n",
       "    }\n",
       "\n",
       "    .dataframe tbody tr th {\n",
       "        vertical-align: top;\n",
       "    }\n",
       "\n",
       "    .dataframe thead th {\n",
       "        text-align: right;\n",
       "    }\n",
       "</style>\n",
       "<table border=\"1\" class=\"dataframe\">\n",
       "  <thead>\n",
       "    <tr style=\"text-align: right;\">\n",
       "      <th></th>\n",
       "      <th>count</th>\n",
       "      <th>mean</th>\n",
       "      <th>std</th>\n",
       "      <th>min</th>\n",
       "      <th>25%</th>\n",
       "      <th>50%</th>\n",
       "      <th>75%</th>\n",
       "      <th>max</th>\n",
       "    </tr>\n",
       "  </thead>\n",
       "  <tbody>\n",
       "    <tr>\n",
       "      <th>price</th>\n",
       "      <td>605966.0</td>\n",
       "      <td>1.280926e+06</td>\n",
       "      <td>3.994411e+06</td>\n",
       "      <td>524200.0</td>\n",
       "      <td>625000.00</td>\n",
       "      <td>796713.00</td>\n",
       "      <td>1225000.00</td>\n",
       "      <td>2.147484e+09</td>\n",
       "    </tr>\n",
       "    <tr>\n",
       "      <th>bed</th>\n",
       "      <td>547527.0</td>\n",
       "      <td>3.758900e+00</td>\n",
       "      <td>2.008743e+00</td>\n",
       "      <td>1.0</td>\n",
       "      <td>3.00</td>\n",
       "      <td>4.00</td>\n",
       "      <td>4.00</td>\n",
       "      <td>2.220000e+02</td>\n",
       "    </tr>\n",
       "    <tr>\n",
       "      <th>bath</th>\n",
       "      <td>538391.0</td>\n",
       "      <td>3.240023e+00</td>\n",
       "      <td>2.134310e+00</td>\n",
       "      <td>1.0</td>\n",
       "      <td>2.00</td>\n",
       "      <td>3.00</td>\n",
       "      <td>4.00</td>\n",
       "      <td>8.300000e+02</td>\n",
       "    </tr>\n",
       "    <tr>\n",
       "      <th>acre_lot</th>\n",
       "      <td>515404.0</td>\n",
       "      <td>2.241875e+01</td>\n",
       "      <td>7.580962e+02</td>\n",
       "      <td>0.0</td>\n",
       "      <td>0.15</td>\n",
       "      <td>0.26</td>\n",
       "      <td>1.06</td>\n",
       "      <td>1.000000e+05</td>\n",
       "    </tr>\n",
       "    <tr>\n",
       "      <th>house_size</th>\n",
       "      <td>521649.0</td>\n",
       "      <td>2.863748e+03</td>\n",
       "      <td>2.636842e+04</td>\n",
       "      <td>4.0</td>\n",
       "      <td>1734.00</td>\n",
       "      <td>2422.00</td>\n",
       "      <td>3312.00</td>\n",
       "      <td>1.299220e+07</td>\n",
       "    </tr>\n",
       "  </tbody>\n",
       "</table>\n",
       "</div>"
      ],
      "text/plain": [
       "               count          mean           std       min        25%  \\\n",
       "price       605966.0  1.280926e+06  3.994411e+06  524200.0  625000.00   \n",
       "bed         547527.0  3.758900e+00  2.008743e+00       1.0       3.00   \n",
       "bath        538391.0  3.240023e+00  2.134310e+00       1.0       2.00   \n",
       "acre_lot    515404.0  2.241875e+01  7.580962e+02       0.0       0.15   \n",
       "house_size  521649.0  2.863748e+03  2.636842e+04       4.0    1734.00   \n",
       "\n",
       "                  50%         75%           max  \n",
       "price       796713.00  1225000.00  2.147484e+09  \n",
       "bed              4.00        4.00  2.220000e+02  \n",
       "bath             3.00        4.00  8.300000e+02  \n",
       "acre_lot         0.26        1.06  1.000000e+05  \n",
       "house_size    2422.00     3312.00  1.299220e+07  "
      ]
     },
     "execution_count": 24,
     "metadata": {},
     "output_type": "execute_result"
    }
   ],
   "source": [
    "above_mean_desc = above_mean[[\"price\", \"bed\", \"bath\", \"acre_lot\", \"house_size\"]].describe().T\n",
    "above_mean_desc"
   ]
  },
  {
   "cell_type": "code",
   "execution_count": 25,
   "id": "5c844948-bae2-436b-b9b5-4e3da89fb6b1",
   "metadata": {
    "tags": []
   },
   "outputs": [
    {
     "data": {
      "text/plain": [
       "(array([6.05959e+05, 3.00000e+00, 1.00000e+00, 0.00000e+00, 2.00000e+00,\n",
       "        0.00000e+00, 0.00000e+00, 0.00000e+00, 0.00000e+00, 1.00000e+00]),\n",
       " array([5.24200000e+05, 2.15220140e+08, 4.29916080e+08, 6.44612020e+08,\n",
       "        8.59307960e+08, 1.07400390e+09, 1.28869984e+09, 1.50339578e+09,\n",
       "        1.71809172e+09, 1.93278766e+09, 2.14748360e+09]),\n",
       " <BarContainer object of 10 artists>)"
      ]
     },
     "execution_count": 25,
     "metadata": {},
     "output_type": "execute_result"
    },
    {
     "data": {
      "image/png": "[encoded data removed]",
      "text/plain": [
       "<Figure size 640x480 with 2 Axes>"
      ]
     },
     "metadata": {},
     "output_type": "display_data"
    }
   ],
   "source": [
    "fig, axs = plt.subplots(1, 2, tight_layout=True)\n",
    "fig.suptitle(\"Frequency Distribution of Price\")\n",
    "\n",
    "axs[0].hist(below_mean[\"price\"])\n",
    "axs[1].hist(above_mean[\"price\"])"
   ]
  },
  {
   "cell_type": "code",
   "execution_count": null,
   "id": "1849873c-2d75-4ee1-9d6f-b553bfbce337",
   "metadata": {},
   "outputs": [],
   "source": []
  },
  {
   "cell_type": "code",
   "execution_count": null,
   "id": "499d4a81-4231-43ce-90be-40605cf544c6",
   "metadata": {},
   "outputs": [],
   "source": []
  },
  {
   "cell_type": "code",
   "execution_count": null,
   "id": "b91251b1-803e-412c-8c2a-8002dc026556",
   "metadata": {},
   "outputs": [],
   "source": []
  }
 ],
 "metadata": {
  "kernelspec": {
   "display_name": "Python 3 (ipykernel)",
   "language": "python",
   "name": "python3"
  },
  "language_info": {
   "codemirror_mode": {
    "name": "ipython",
    "version": 3
   },
   "file_extension": ".py",
   "mimetype": "text/x-python",
   "name": "python",
   "nbconvert_exporter": "python",
   "pygments_lexer": "ipython3",
   "version": "3.11.5"
  }
 },
 "nbformat": 4,
 "nbformat_minor": 5
}
