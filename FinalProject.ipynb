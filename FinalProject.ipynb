{
 "cells": [
  {
   "cell_type": "markdown",
   "id": "9070e481-240c-46ca-8aec-900784759d2f",
   "metadata": {},
   "source": [
    "### DATA103 Final Project <br>\n",
    "Submitted by **ALDECOA**, Renzel; **LLANES**, Arlan; **OPALLA**, Rijan - S11"
   ]
  },
  {
   "cell_type": "markdown",
   "id": "becfce0f-82f8-4b44-8996-f245fdae7b25",
   "metadata": {
    "tags": []
   },
   "source": [
    "---\n",
    "#### Statment of the Problem"
   ]
  },
  {
   "cell_type": "markdown",
   "id": "f69cfc5f-2303-4a87-be68-851cbeb8400e",
   "metadata": {},
   "source": [
    "The <a href=\"https://www.kaggle.com/datasets/ahmedshahriarsakib/usa-real-estate-dataset\">USA Real Estate Dataset</a> offers listings of property sold in the USA across multiple states. According to the author, the data was collected from <a href=\"https://www.realtor.com/\">realtor.com</a>, a real estate listing website managed by *Move, Inc.*, a company based in Santa Clara, California.\n",
    "\n",
    "The dataset contains **2,226,382** property listings with **10** features. These features are the following:\n",
    "- ```brokered by``` - an encoded identification number for an agency/broker\n",
    "- ```status``` - housing status; can be (a) ready for sale, (b) sold, or (c) ready to build\n",
    "- ```price``` - housing price; either current listing price or recently sold price\n",
    "- ```bed``` - number of beds in the property\n",
    "- ```bath``` - number of bathrooms in the property\n",
    "- ```acre_lot``` - total property/lot area, in acres\n",
    "- ```street``` - encoded street address\n",
    "- ```city``` - city where the property is located\n",
    "- ```state``` - state where the property is located\n",
    "- ```zip_code``` - postal code of the area\n",
    "- ```house_size``` - the size of the property, in square feet; and\n",
    "- ```prev_sold_date``` - previous date of sale"
   ]
  },
  {
   "cell_type": "markdown",
   "id": "a348756b-df7f-406d-893f-06ce5a41d9d9",
   "metadata": {},
   "source": [
    "This will be a **classification** problem.\n",
    "\n",
    "Main features:\n",
    "- ```price```\n",
    "- ```bed``` (number of bedrooms)\n",
    "- ```bath``` (number of bathrooms)\n",
    "- ```acre_lot``` (area of lot in acres)\n",
    "- ```house_size``` (size of house in square feet)\n",
    "\n",
    "Label:\n",
    "- ```Worth [1]``` / ```Not worth [0]``` (binary) - determines if the house, with its amenities, is worth the price\n"
   ]
  },
  {
   "cell_type": "markdown",
   "id": "2a2c14b4-c5e5-4c16-be8b-1fd0f930217d",
   "metadata": {
    "tags": []
   },
   "source": [
    "---\n",
    "#### Importing necessary libraries"
   ]
  },
  {
   "cell_type": "code",
   "execution_count": 6,
   "id": "3b56f519-8f64-46d0-9c30-4a562a5db441",
   "metadata": {
    "tags": []
   },
   "outputs": [],
   "source": [
    "import pandas as pd\n",
    "import numpy as np\n",
    "import plotly.express as px"
   ]
  },
  {
   "cell_type": "markdown",
   "id": "8c2b10d7-5919-4679-a4cc-83a3fbb802fa",
   "metadata": {
    "tags": []
   },
   "source": [
    "---\n",
    "#### Extracting dataset from compressed file"
   ]
  },
  {
   "cell_type": "markdown",
   "id": "82fa4538-3ad2-468a-8983-c71273d473d0",
   "metadata": {},
   "source": [
    "The dataset itself is **large**, amounting to **178.86** MB of space. The dataset is pushed into the repository in a compressed state, as to not require the use of *Git LFS* (Large File Storage) "
   ]
  },
  {
   "cell_type": "code",
   "execution_count": 9,
   "id": "fe7158c4-c543-42b7-ba5a-a3d80dd5db8a",
   "metadata": {
    "tags": []
   },
   "outputs": [],
   "source": [
    "import zipfile\n",
    "with zipfile.ZipFile('USA-Real-Estate/archive.zip', 'r') as zip_ref:\n",
    "    zip_ref.extractall('USA-Real-Estate/')"
   ]
  },
  {
   "cell_type": "code",
   "execution_count": 10,
   "id": "b542187b-639e-4d29-8ffe-e8c16ca4d551",
   "metadata": {},
   "outputs": [
    {
     "data": {
      "text/plain": [
       "(2226382, 12)"
      ]
     },
     "execution_count": 10,
     "metadata": {},
     "output_type": "execute_result"
    }
   ],
   "source": [
    "df = pd.read_csv(\"USA-Real-Estate/realtor-data.zip.csv\", low_memory=False)\n",
    "df.shape"
   ]
  },
  {
   "cell_type": "markdown",
   "id": "0f45d81a-0564-40a3-9c0f-1bd30fb1b16e",
   "metadata": {},
   "source": [
    "---\n",
    "#### Exploring the dataset"
   ]
  },
  {
   "cell_type": "code",
   "execution_count": 12,
   "id": "766e02be-a31e-4827-bbca-4014f79903d2",
   "metadata": {},
   "outputs": [
    {
     "data": {
      "text/html": [
       "<div>\n",
       "<style scoped>\n",
       "    .dataframe tbody tr th:only-of-type {\n",
       "        vertical-align: middle;\n",
       "    }\n",
       "\n",
       "    .dataframe tbody tr th {\n",
       "        vertical-align: top;\n",
       "    }\n",
       "\n",
       "    .dataframe thead th {\n",
       "        text-align: right;\n",
       "    }\n",
       "</style>\n",
       "<table border=\"1\" class=\"dataframe\">\n",
       "  <thead>\n",
       "    <tr style=\"text-align: right;\">\n",
       "      <th></th>\n",
       "      <th>brokered_by</th>\n",
       "      <th>status</th>\n",
       "      <th>price</th>\n",
       "      <th>bed</th>\n",
       "      <th>bath</th>\n",
       "      <th>acre_lot</th>\n",
       "      <th>street</th>\n",
       "      <th>city</th>\n",
       "      <th>state</th>\n",
       "      <th>zip_code</th>\n",
       "      <th>house_size</th>\n",
       "      <th>prev_sold_date</th>\n",
       "    </tr>\n",
       "  </thead>\n",
       "  <tbody>\n",
       "    <tr>\n",
       "      <th>0</th>\n",
       "      <td>103378.0</td>\n",
       "      <td>for_sale</td>\n",
       "      <td>105000.0</td>\n",
       "      <td>3.0</td>\n",
       "      <td>2.0</td>\n",
       "      <td>0.12</td>\n",
       "      <td>1962661.0</td>\n",
       "      <td>Adjuntas</td>\n",
       "      <td>Puerto Rico</td>\n",
       "      <td>601.0</td>\n",
       "      <td>920.0</td>\n",
       "      <td>NaN</td>\n",
       "    </tr>\n",
       "    <tr>\n",
       "      <th>1</th>\n",
       "      <td>52707.0</td>\n",
       "      <td>for_sale</td>\n",
       "      <td>80000.0</td>\n",
       "      <td>4.0</td>\n",
       "      <td>2.0</td>\n",
       "      <td>0.08</td>\n",
       "      <td>1902874.0</td>\n",
       "      <td>Adjuntas</td>\n",
       "      <td>Puerto Rico</td>\n",
       "      <td>601.0</td>\n",
       "      <td>1527.0</td>\n",
       "      <td>NaN</td>\n",
       "    </tr>\n",
       "    <tr>\n",
       "      <th>2</th>\n",
       "      <td>103379.0</td>\n",
       "      <td>for_sale</td>\n",
       "      <td>67000.0</td>\n",
       "      <td>2.0</td>\n",
       "      <td>1.0</td>\n",
       "      <td>0.15</td>\n",
       "      <td>1404990.0</td>\n",
       "      <td>Juana Diaz</td>\n",
       "      <td>Puerto Rico</td>\n",
       "      <td>795.0</td>\n",
       "      <td>748.0</td>\n",
       "      <td>NaN</td>\n",
       "    </tr>\n",
       "  </tbody>\n",
       "</table>\n",
       "</div>"
      ],
      "text/plain": [
       "   brokered_by    status     price  bed  bath  acre_lot     street  \\\n",
       "0     103378.0  for_sale  105000.0  3.0   2.0      0.12  1962661.0   \n",
       "1      52707.0  for_sale   80000.0  4.0   2.0      0.08  1902874.0   \n",
       "2     103379.0  for_sale   67000.0  2.0   1.0      0.15  1404990.0   \n",
       "\n",
       "         city        state  zip_code  house_size prev_sold_date  \n",
       "0    Adjuntas  Puerto Rico     601.0       920.0            NaN  \n",
       "1    Adjuntas  Puerto Rico     601.0      1527.0            NaN  \n",
       "2  Juana Diaz  Puerto Rico     795.0       748.0            NaN  "
      ]
     },
     "execution_count": 12,
     "metadata": {},
     "output_type": "execute_result"
    }
   ],
   "source": [
    "df.head(3)"
   ]
  },
  {
   "cell_type": "markdown",
   "id": "4c8bf570-b1d0-4f40-b710-b0d696f5bb46",
   "metadata": {},
   "source": [
    "The features include the following:"
   ]
  },
  {
   "cell_type": "code",
   "execution_count": 14,
   "id": "6f7932d5-99a2-413e-a1fa-df522032a72c",
   "metadata": {
    "tags": []
   },
   "outputs": [
    {
     "data": {
      "text/plain": [
       "Index(['brokered_by', 'status', 'price', 'bed', 'bath', 'acre_lot', 'street',\n",
       "       'city', 'state', 'zip_code', 'house_size', 'prev_sold_date'],\n",
       "      dtype='object')"
      ]
     },
     "execution_count": 14,
     "metadata": {},
     "output_type": "execute_result"
    }
   ],
   "source": [
    "df.columns"
   ]
  },
  {
   "cell_type": "code",
   "execution_count": 15,
   "id": "2c2a2e48-e613-44c0-9360-faa62590e33e",
   "metadata": {
    "tags": []
   },
   "outputs": [
    {
     "data": {
      "text/plain": [
       "brokered_by       float64\n",
       "status             object\n",
       "price             float64\n",
       "bed               float64\n",
       "bath              float64\n",
       "acre_lot          float64\n",
       "street            float64\n",
       "city               object\n",
       "state              object\n",
       "zip_code          float64\n",
       "house_size        float64\n",
       "prev_sold_date     object\n",
       "dtype: object"
      ]
     },
     "execution_count": 15,
     "metadata": {},
     "output_type": "execute_result"
    }
   ],
   "source": [
    "df.dtypes"
   ]
  },
  {
   "cell_type": "markdown",
   "id": "933ee953-162f-410b-a7c3-048bedce8767",
   "metadata": {},
   "source": [
    "Brief statistical description of ```float``` type features (that are **not** numbers used for categorical encoding):"
   ]
  },
  {
   "cell_type": "code",
   "execution_count": 44,
   "id": "56096ec6-b158-4a8d-9297-593c0b3e95d2",
   "metadata": {
    "tags": []
   },
   "outputs": [
    {
     "data": {
      "text/html": [
       "<div>\n",
       "<style scoped>\n",
       "    .dataframe tbody tr th:only-of-type {\n",
       "        vertical-align: middle;\n",
       "    }\n",
       "\n",
       "    .dataframe tbody tr th {\n",
       "        vertical-align: top;\n",
       "    }\n",
       "\n",
       "    .dataframe thead th {\n",
       "        text-align: right;\n",
       "    }\n",
       "</style>\n",
       "<table border=\"1\" class=\"dataframe\">\n",
       "  <thead>\n",
       "    <tr style=\"text-align: right;\">\n",
       "      <th></th>\n",
       "      <th>count</th>\n",
       "      <th>mean</th>\n",
       "      <th>std</th>\n",
       "      <th>min</th>\n",
       "      <th>25%</th>\n",
       "      <th>50%</th>\n",
       "      <th>75%</th>\n",
       "      <th>max</th>\n",
       "    </tr>\n",
       "  </thead>\n",
       "  <tbody>\n",
       "    <tr>\n",
       "      <th>price</th>\n",
       "      <td>2224841.0</td>\n",
       "      <td>524195.519291</td>\n",
       "      <td>2.138893e+06</td>\n",
       "      <td>0.0</td>\n",
       "      <td>165000.00</td>\n",
       "      <td>325000.00</td>\n",
       "      <td>550000.00</td>\n",
       "      <td>2.147484e+09</td>\n",
       "    </tr>\n",
       "    <tr>\n",
       "      <th>bed</th>\n",
       "      <td>1745065.0</td>\n",
       "      <td>3.275841</td>\n",
       "      <td>1.567274e+00</td>\n",
       "      <td>1.0</td>\n",
       "      <td>3.00</td>\n",
       "      <td>3.00</td>\n",
       "      <td>4.00</td>\n",
       "      <td>4.730000e+02</td>\n",
       "    </tr>\n",
       "    <tr>\n",
       "      <th>bath</th>\n",
       "      <td>1714611.0</td>\n",
       "      <td>2.496440</td>\n",
       "      <td>1.652573e+00</td>\n",
       "      <td>1.0</td>\n",
       "      <td>2.00</td>\n",
       "      <td>2.00</td>\n",
       "      <td>3.00</td>\n",
       "      <td>8.300000e+02</td>\n",
       "    </tr>\n",
       "    <tr>\n",
       "      <th>acre_lot</th>\n",
       "      <td>1900793.0</td>\n",
       "      <td>15.223027</td>\n",
       "      <td>7.628238e+02</td>\n",
       "      <td>0.0</td>\n",
       "      <td>0.15</td>\n",
       "      <td>0.26</td>\n",
       "      <td>0.98</td>\n",
       "      <td>1.000000e+05</td>\n",
       "    </tr>\n",
       "    <tr>\n",
       "      <th>house_size</th>\n",
       "      <td>1657898.0</td>\n",
       "      <td>2714.471335</td>\n",
       "      <td>8.081635e+05</td>\n",
       "      <td>4.0</td>\n",
       "      <td>1300.00</td>\n",
       "      <td>1760.00</td>\n",
       "      <td>2413.00</td>\n",
       "      <td>1.040400e+09</td>\n",
       "    </tr>\n",
       "  </tbody>\n",
       "</table>\n",
       "</div>"
      ],
      "text/plain": [
       "                count           mean           std  min        25%        50%  \\\n",
       "price       2224841.0  524195.519291  2.138893e+06  0.0  165000.00  325000.00   \n",
       "bed         1745065.0       3.275841  1.567274e+00  1.0       3.00       3.00   \n",
       "bath        1714611.0       2.496440  1.652573e+00  1.0       2.00       2.00   \n",
       "acre_lot    1900793.0      15.223027  7.628238e+02  0.0       0.15       0.26   \n",
       "house_size  1657898.0    2714.471335  8.081635e+05  4.0    1300.00    1760.00   \n",
       "\n",
       "                  75%           max  \n",
       "price       550000.00  2.147484e+09  \n",
       "bed              4.00  4.730000e+02  \n",
       "bath             3.00  8.300000e+02  \n",
       "acre_lot         0.98  1.000000e+05  \n",
       "house_size    2413.00  1.040400e+09  "
      ]
     },
     "execution_count": 44,
     "metadata": {},
     "output_type": "execute_result"
    }
   ],
   "source": [
    "df[[\"price\", \"bed\", \"bath\", \"acre_lot\", \"house_size\"]].describe().T"
   ]
  },
  {
   "cell_type": "markdown",
   "id": "72fb909d-1b56-41ee-ab18-0be828d62512",
   "metadata": {},
   "source": [
    "Exploring the ```status``` feature:"
   ]
  },
  {
   "cell_type": "code",
   "execution_count": 32,
   "id": "05975b3d-f98d-42cf-9426-2c04a471394d",
   "metadata": {
    "tags": []
   },
   "outputs": [
    {
     "data": {
      "text/plain": [
       "array(['for_sale', 'ready_to_build', 'sold'], dtype=object)"
      ]
     },
     "execution_count": 32,
     "metadata": {},
     "output_type": "execute_result"
    }
   ],
   "source": [
    "df[\"status\"].unique()"
   ]
  },
  {
   "cell_type": "code",
   "execution_count": 34,
   "id": "3f4f9234-266f-4505-afcc-c2b54784cb40",
   "metadata": {
    "tags": []
   },
   "outputs": [
    {
     "data": {
      "text/plain": [
       "status\n",
       "for_sale          1389306\n",
       "sold               812009\n",
       "ready_to_build      25067\n",
       "Name: count, dtype: int64"
      ]
     },
     "execution_count": 34,
     "metadata": {},
     "output_type": "execute_result"
    }
   ],
   "source": [
    "df[\"status\"].value_counts()"
   ]
  },
  {
   "cell_type": "code",
   "execution_count": null,
   "id": "e8ed28ac-6d9d-4708-8913-9082afacdabc",
   "metadata": {},
   "outputs": [],
   "source": []
  },
  {
   "cell_type": "code",
   "execution_count": null,
   "id": "3bdfe491-b4bb-4104-a809-c4d14f994bd5",
   "metadata": {},
   "outputs": [],
   "source": []
  },
  {
   "cell_type": "code",
   "execution_count": null,
   "id": "5c844948-bae2-436b-b9b5-4e3da89fb6b1",
   "metadata": {},
   "outputs": [],
   "source": []
  },
  {
   "cell_type": "code",
   "execution_count": null,
   "id": "1849873c-2d75-4ee1-9d6f-b553bfbce337",
   "metadata": {},
   "outputs": [],
   "source": []
  },
  {
   "cell_type": "code",
   "execution_count": null,
   "id": "499d4a81-4231-43ce-90be-40605cf544c6",
   "metadata": {},
   "outputs": [],
   "source": []
  },
  {
   "cell_type": "code",
   "execution_count": null,
   "id": "b91251b1-803e-412c-8c2a-8002dc026556",
   "metadata": {},
   "outputs": [],
   "source": []
  }
 ],
 "metadata": {
  "kernelspec": {
   "display_name": "Python 3 (ipykernel)",
   "language": "python",
   "name": "python3"
  },
  "language_info": {
   "codemirror_mode": {
    "name": "ipython",
    "version": 3
   },
   "file_extension": ".py",
   "mimetype": "text/x-python",
   "name": "python",
   "nbconvert_exporter": "python",
   "pygments_lexer": "ipython3",
   "version": "3.11.5"
  }
 },
 "nbformat": 4,
 "nbformat_minor": 5
}
